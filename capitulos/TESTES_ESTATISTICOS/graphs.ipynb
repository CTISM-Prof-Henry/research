{
 "cells": [
  {
   "cell_type": "markdown",
   "id": "e08d141a-316c-4498-8aba-744f15df72d1",
   "metadata": {},
   "source": [
    "# Gráficos\n",
    "\n",
    "Projeta gráficos de tempo de percurso para os três animais, dado um percurso."
   ]
  },
  {
   "cell_type": "code",
   "id": "4d7933b3-5a6e-4ff8-ba5a-86c58a8c535d",
   "metadata": {},
   "source": [
    "from matplotlib import pyplot as plt\n",
    "import numpy as np"
   ],
   "outputs": [],
   "execution_count": null
  },
  {
   "cell_type": "code",
   "id": "5c1892fa-d77e-4863-8ac7-88ee3ff7cc96",
   "metadata": {},
   "source": [
    "def time_to_run(distance, speed, delay):\n",
    "    return round((distance/speed) + delay)"
   ],
   "outputs": [],
   "execution_count": null
  },
  {
   "cell_type": "code",
   "id": "3bd3a965-c914-491e-aa2f-cb7939271c89",
   "metadata": {},
   "source": [
    "speeds = [11.11, 13.88, 19.44]\n",
    "delays = [0, 5, 10]\n",
    "animals = ['coelho', 'cachorro', 'cavalo']\n",
    "courses = [x * 100 for x in range(1, 11)]\n",
    "\n",
    "fig, ax = plt.subplots()\n",
    "\n",
    "rows = []\n",
    "\n",
    "for (animal, delay, speed) in zip(animals, delays, speeds):\n",
    "    rows.append([time_to_run(x, speed, delay) for x in courses])\n",
    "    \n",
    "    ax.scatter(\n",
    "        courses, \n",
    "        rows[-1], \n",
    "        label=animal\n",
    "    )\n",
    "\n",
    "ax.set_ylabel('Tempo de prova')\n",
    "ax.set_xlabel('Distância do percurso')\n",
    "ax.set_xticks(courses, courses)\n",
    "ax.set_title('Tempo para cada animal concluir os percursos')\n",
    "plt.legend()\n",
    "plt.show()    "
   ],
   "outputs": [],
   "execution_count": null
  },
  {
   "cell_type": "code",
   "id": "dc538d15-2de1-44bd-bf59-d513fc968ed2",
   "metadata": {},
   "source": [
    "import pandas as pd\n",
    "print(pd.DataFrame(rows, index=animals, columns=[str(x) + 'm' for x in courses]).T.to_csv(None, sep=','))"
   ],
   "outputs": [],
   "execution_count": null
  }
 ],
 "metadata": {
  "kernelspec": {
   "display_name": "Python 3 (ipykernel)",
   "language": "python",
   "name": "python3"
  },
  "language_info": {
   "codemirror_mode": {
    "name": "ipython",
    "version": 3
   },
   "file_extension": ".py",
   "mimetype": "text/x-python",
   "name": "python",
   "nbconvert_exporter": "python",
   "pygments_lexer": "ipython3",
   "version": "3.11.7"
  }
 },
 "nbformat": 4,
 "nbformat_minor": 5
}
